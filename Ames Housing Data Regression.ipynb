{
 "cells": [
  {
   "cell_type": "code",
   "execution_count": 1,
   "metadata": {},
   "outputs": [],
   "source": [
    "#Import packages used\n",
    "import pandas as pd\n",
    "import os as os\n",
    "import numpy as np\n",
    "import seaborn as sns\n",
    "import matplotlib as plt\n",
    "from sklearn.linear_model import LinearRegression\n",
    "from sklearn.model_selection import train_test_split,cross_val_score\n",
    "from sklearn import preprocessing\n",
    "from sklearn.preprocessing import PolynomialFeatures\n",
    "from sklearn.metrics import mean_squared_error,make_scorer\n",
    "from sklearn.linear_model import Lasso, Ridge, LassoCV, RidgeCV,ElasticNetCV\n",
    "import copy"
   ]
  },
  {
   "cell_type": "code",
   "execution_count": 2,
   "metadata": {},
   "outputs": [
    {
     "data": {
      "text/plain": [
       "(1460, 80)"
      ]
     },
     "execution_count": 2,
     "metadata": {},
     "output_type": "execute_result"
    },
    {
     "data": {
      "image/png": "[encoded data removed]",
      "text/plain": [
       "<Figure size 540x180 with 3 Axes>"
      ]
     },
     "metadata": {
      "needs_background": "light"
     },
     "output_type": "display_data"
    }
   ],
   "source": [
    "#Connect to data, note this is the training dataset, test/holdout dataset is is another csv\n",
    "data_path = r\"C:\\Users\\Tom-T\\Google Drive\\Queen's MMA\\Predictive Modelling - MMA 867\\Assignment 1\\House Prices Kaggle\\train.csv\"\n",
    "data = pd.read_csv(data_path,index_col='Id')\n",
    "data.head()\n",
    "\n",
    "\n",
    "#EDA - a lot of guidance from the competition creator's notes found here: http://jse.amstat.org/v19n3/decock.pdf\n",
    "#Note, this pdf is referenced heavily in this analysis\n",
    "pp = sns.pairplot(data=data,\n",
    "                  y_vars=['SalePrice'],\n",
    "                  x_vars=['OverallQual', 'LotArea','GrLivArea'])\n",
    "\n",
    "#From the plots of some features and sale price, we can see that there are some exceptional sales of large houses for too high or low price\n",
    "#It also looks like the variability of the sale price increases with the size of the living area - this is noted and we will\n",
    "#log transform these two variables in the model\n",
    "\n",
    "#Size of the dataset\n",
    "data.shape\n"
   ]
  },
  {
   "cell_type": "code",
   "execution_count": 3,
   "metadata": {},
   "outputs": [
    {
     "data": {
      "text/plain": [
       "(1459, 79)"
      ]
     },
     "execution_count": 3,
     "metadata": {},
     "output_type": "execute_result"
    }
   ],
   "source": [
    "#Load testing dataset \n",
    "data_path = r\"C:\\Users\\Tom-T\\Google Drive\\Queen's MMA\\Predictive Modelling - MMA 867\\Assignment 1\\House Prices Kaggle\\test.csv\"\n",
    "data = pd.read_csv(data_path,index_col='Id')\n",
    "data.shape"
   ]
  },
  {
   "cell_type": "code",
   "execution_count": 1,
   "metadata": {},
   "outputs": [],
   "source": [
    "# #Connect to holdout dataset to leverage preprocessing code, remember we are using the name \"data\" for both datasets to\n",
    "# #leverage the same cleansing code, so will have to comment each line and run as appropriate\n",
    "# #data_train = copy.deepcopy(data)\n",
    "# data_test = copy.deepcopy(data)\n",
    "\n",
    "\n",
    "# train_objs_num = len(data_train)\n",
    "# data = pd.concat(objs=[data_train, data_test], axis=0)\n",
    "# data.loc[:, \"SalePrice\"] = data.loc[:, \"SalePrice\"].fillna(1)\n",
    "# dataset_preprocessed = pd.get_dummies(data,drop_first = True)\n",
    "\n",
    "# dataset_preprocessed['SalePrice'] = np.log(dataset_preprocessed['SalePrice'])\n",
    "# dataset_preprocessed['GrLivArea'] = np.log(dataset_preprocessed['GrLivArea'])\n",
    "\n",
    "# train_preprocessed = dataset_preprocessed[:train_objs_num]\n",
    "# test_preprocessed = dataset_preprocessed[train_objs_num:]\n",
    "\n",
    "# data_submission_test = copy.deepcopy(test_preprocessed)\n",
    "# data = copy.deepcopy(train_preprocessed)"
   ]
  },
  {
   "cell_type": "code",
   "execution_count": 3,
   "metadata": {},
   "outputs": [
    {
     "data": {
      "text/plain": [
       "LotFrontage      259\n",
       "Alley           1369\n",
       "MasVnrType         8\n",
       "MasVnrArea         8\n",
       "BsmtQual          37\n",
       "BsmtCond          37\n",
       "BsmtExposure      38\n",
       "BsmtFinType1      37\n",
       "BsmtFinType2      38\n",
       "Electrical         1\n",
       "FireplaceQu      690\n",
       "GarageType        81\n",
       "GarageYrBlt       81\n",
       "GarageFinish      81\n",
       "GarageQual        81\n",
       "GarageCond        81\n",
       "PoolQC          1453\n",
       "Fence           1179\n",
       "MiscFeature     1406\n",
       "dtype: int64"
      ]
     },
     "execution_count": 3,
     "metadata": {},
     "output_type": "execute_result"
    }
   ],
   "source": [
    "nullcheck = data.isnull().sum()\n",
    "nullcheck[nullcheck > 0]\n"
   ]
  },
  {
   "cell_type": "code",
   "execution_count": 6,
   "metadata": {},
   "outputs": [],
   "source": [
    "#Data Preprocessing; many of the ideas are taken from either the author's document, or inspired from this notebook:\n",
    "#https://www.kaggle.com/juliencs/a-study-on-regression-applied-to-the-ames-dataset\n",
    "\n",
    "#As recommended by the creator, let's remove all houses with a living area greater than 4,000 square feet..(don't do this for submission dataset!)\n",
    "data = data.drop(data[data.GrLivArea > 4000].index)\n",
    "\n",
    "#Check for missing data - the pdf and data dictionary indicates that the dataset is clean, which means null values likely mean a value of 0 or none\n",
    "#For example, null values in LotFrontage and Alley mean there is no lot frontage (feet) or Alleyway access to the house (yes/no)\n",
    "nullcheck = data.isnull().sum()\n",
    "nullcheck[nullcheck > 0]\n",
    "\n",
    "#Replacing nulls with 0 or \"NA\" string values depending on column datatype;\n",
    "data.loc[:, \"Alley\"] = data.loc[:, \"Alley\"].fillna(\"NA\")\n",
    "data.loc[:, \"BsmtQual\"] = data.loc[:, \"BsmtQual\"].fillna(\"NA\")\n",
    "data.loc[:, \"BsmtCond\"] = data.loc[:, \"BsmtCond\"].fillna(\"NA\")\n",
    "data.loc[:, \"BsmtExposure\"] = data.loc[:, \"BsmtExposure\"].fillna(\"NA\")\n",
    "data.loc[:, \"BsmtFinType1\"] = data.loc[:, \"BsmtFinType1\"].fillna(\"NA\")\n",
    "data.loc[:, \"BsmtFinType2\"] = data.loc[:, \"BsmtFinType2\"].fillna(\"NA\")\n",
    "data.loc[:, \"Fence\"] = data.loc[:, \"Fence\"].fillna(\"NA\")\n",
    "data.loc[:, \"FireplaceQu\"] = data.loc[:, \"FireplaceQu\"].fillna(\"NA\")\n",
    "data.loc[:, \"GarageType\"] = data.loc[:, \"GarageType\"].fillna(\"NA\")\n",
    "data.loc[:, \"GarageFinish\"] = data.loc[:, \"GarageFinish\"].fillna(\"NA\")\n",
    "data.loc[:, \"GarageQual\"] = data.loc[:, \"GarageQual\"].fillna(\"NA\")\n",
    "data.loc[:, \"GarageCond\"] = data.loc[:, \"GarageCond\"].fillna(\"NA\")\n",
    "data.loc[:, \"LotFrontage\"] = data.loc[:, \"LotFrontage\"].fillna(0)\n",
    "data.loc[:, \"MiscFeature\"] = data.loc[:, \"MiscFeature\"].fillna(\"NA\")\n",
    "data.loc[:, \"PoolQC\"] = data.loc[:, \"PoolQC\"].fillna(\"NA\")\n",
    "data.loc[:, \"MasVnrArea\"] = data.loc[:, \"MasVnrArea\"].fillna(0)\n",
    "data.loc[:, \"MasVnrType\"] = data.loc[:, \"MasVnrType\"].fillna(\"None\")\n",
    "data.loc[:, \"BsmtFinSF1\"] = data.loc[:, \"BsmtFinSF1\"].fillna(\"NA\")\n",
    "data.loc[:, \"BsmtFinSF2\"] = data.loc[:, \"BsmtFinSF2\"].fillna(\"NA\")\n",
    "data.loc[:, \"BsmtUnfSF\"] = data.loc[:, \"BsmtUnfSF\"].fillna(0)\n",
    "data.loc[:, \"BsmtFullBath\"] = data.loc[:, \"BsmtFullBath\"].fillna(0)\n",
    "data.loc[:, \"BsmtHalfBath\"] = data.loc[:, \"BsmtHalfBath\"].fillna(0)\n",
    "data.loc[:, \"TotalBsmtSF\"] = data.loc[:, \"TotalBsmtSF\"].fillna(0)    \n",
    "data.loc[:, \"GarageCars\"] = data.loc[:, \"GarageCars\"].fillna(0)\n",
    "data.loc[:, \"GarageArea\"] = data.loc[:, \"GarageArea\"].fillna(0)\n",
    "\n",
    "\n",
    "\n",
    "#Problem variable: Garage Year Built (GarageYrBlt) has 81 NA values. Since we need this numeric field to have no nulls in \n",
    "#order to build our interaction terms, we must address this. I have decided to use the median in this case after some research\n",
    "data.loc[:, \"GarageYrBlt\"] = data.loc[:, \"GarageYrBlt\"].fillna(data.GarageYrBlt.median())\n",
    "data.loc[:, \"BsmtUnfSF\"] = data.loc[:, \"BsmtUnfSF\"].fillna(data.BsmtUnfSF.median())\n",
    "\n",
    "\n",
    "#Additionally, the MSSubClass columns is actually caegorical, and the month sold column should not be numeric\n",
    "data = data.replace({\"MSSubClass\" : {20 : \"SC20\", 30 : \"SC30\", 40 : \"SC40\", 45 : \"SC45\", \n",
    "                                       50 : \"SC50\", 60 : \"SC60\", 70 : \"SC70\", 75 : \"SC75\", \n",
    "                                       80 : \"SC80\", 85 : \"SC85\", 90 : \"SC90\", 120 : \"SC120\", \n",
    "                                       150 : \"SC150\", 160 : \"SC160\", 180 : \"SC180\", 190 : \"SC190\"},\n",
    "                       \"MoSold\" : {1 : \"Jan\", 2 : \"Feb\", 3 : \"Mar\", 4 : \"Apr\", 5 : \"May\", 6 : \"Jun\",\n",
    "                                   7 : \"Jul\", 8 : \"Aug\", 9 : \"Sep\", 10 : \"Oct\", 11 : \"Nov\", 12 : \"Dec\"}\n",
    "                      })\n",
    "\n",
    "#Inspired from the kaggle notebook, I realized it is potentially advantageous to change categorical variables to ordinal.\n",
    "#For example, houses with pools are usually worth (and sold for) more, and all variables involving the quality of the house should affect price similarly.\n",
    "\n",
    "data = data.replace({\"Alley\" : {\"NA\" : 0, \"Grvl\" : 1, \"Pave\" : 2},\n",
    "                       \"BsmtCond\" : {\"NA\" : 0, \"Po\" : 1, \"Fa\" : 2, \"TA\" : 3, \"Gd\" : 4, \"Ex\" : 5},\n",
    "                       \"BsmtExposure\" : {\"NA\" : 0, \"Mn\" : 1, \"Av\": 2, \"Gd\" : 3},\n",
    "                       \"BsmtFinType1\" : {\"NA\" : 0, \"Unf\" : 1, \"LwQ\": 2, \"Rec\" : 3, \"BLQ\" : 4, \n",
    "                                         \"ALQ\" : 5, \"GLQ\" : 6},\n",
    "                       \"BsmtFinType2\" : {\"NA\" : 0, \"Unf\" : 1, \"LwQ\": 2, \"Rec\" : 3, \"BLQ\" : 4, \n",
    "                                         \"ALQ\" : 5, \"GLQ\" : 6},\n",
    "                       \"BsmtQual\" : {\"No\" : 0, \"Po\" : 1, \"Fa\" : 2, \"TA\": 3, \"Gd\" : 4, \"Ex\" : 5},\n",
    "                       \"ExterCond\" : {\"Po\" : 1, \"Fa\" : 2, \"TA\": 3, \"Gd\": 4, \"Ex\" : 5},\n",
    "                       \"ExterQual\" : {\"Po\" : 1, \"Fa\" : 2, \"TA\": 3, \"Gd\": 4, \"Ex\" : 5},\n",
    "                     #Interpreted Fence quality based on \"Good\" vs \"Minimum\" values \n",
    "                       \"Fence\" : {\"NA\": 0, \"MnWw\" : 1, \"MnPrv\" : 1, \"GdWo\" : 2, \"GdPrv\" : 2},\n",
    "                       \"FireplaceQu\" : {\"No\" : 0, \"Po\" : 1, \"Fa\" : 2, \"TA\" : 3, \"Gd\" : 4, \"Ex\" : 5},\n",
    "                       \"Functional\" : {\"Sal\" : 1, \"Sev\" : 2, \"Maj2\" : 3, \"Maj1\" : 4, \"Mod\": 5, \n",
    "                                       \"Min2\" : 6, \"Min1\" : 7, \"Typ\" : 8},\n",
    "                       \"GarageCond\" : {\"No\" : 0, \"Po\" : 1, \"Fa\" : 2, \"TA\" : 3, \"Gd\" : 4, \"Ex\" : 5},\n",
    "                       \"GarageQual\" : {\"No\" : 0, \"Po\" : 1, \"Fa\" : 2, \"TA\" : 3, \"Gd\" : 4, \"Ex\" : 5},\n",
    "                       \"HeatingQC\" : {\"Po\" : 1, \"Fa\" : 2, \"TA\" : 3, \"Gd\" : 4, \"Ex\" : 5},\n",
    "                       \"KitchenQual\" : {\"Po\" : 1, \"Fa\" : 2, \"TA\" : 3, \"Gd\" : 4, \"Ex\" : 5},\n",
    "                     #Severely sloped land is negatively associated with house value\n",
    "                       \"LandSlope\" : {\"Sev\" : 1, \"Mod\" : 2, \"Gtl\" : 3},\n",
    "                       \"LotShape\" : {\"IR3\" : 1, \"IR2\" : 2, \"IR1\" : 3, \"Reg\" : 4},\n",
    "                       \"PavedDrive\" : {\"N\" : 0, \"P\" : 1, \"Y\" : 2},\n",
    "                       \"PoolQC\" : {\"No\" : 0, \"Fa\" : 1, \"TA\" : 2, \"Gd\" : 3, \"Ex\" : 4},\n",
    "                       \"Street\" : {\"Grvl\" : 1, \"Pave\" : 2},\n",
    "                       \"Utilities\" : {\"ELO\" : 1, \"NoSeWa\" : 2, \"NoSewr\" : 3, \"AllPub\" : 4}}\n",
    "                     )\n",
    "\n"
   ]
  },
  {
   "cell_type": "code",
   "execution_count": 7,
   "metadata": {},
   "outputs": [
    {
     "data": {
      "text/html": [
       "<div>\n",
       "<style scoped>\n",
       "    .dataframe tbody tr th:only-of-type {\n",
       "        vertical-align: middle;\n",
       "    }\n",
       "\n",
       "    .dataframe tbody tr th {\n",
       "        vertical-align: top;\n",
       "    }\n",
       "\n",
       "    .dataframe thead th {\n",
       "        text-align: right;\n",
       "    }\n",
       "</style>\n",
       "<table border=\"1\" class=\"dataframe\">\n",
       "  <thead>\n",
       "    <tr style=\"text-align: right;\">\n",
       "      <th></th>\n",
       "      <th>MSSubClass</th>\n",
       "      <th>MSZoning</th>\n",
       "      <th>LotFrontage</th>\n",
       "      <th>LotArea</th>\n",
       "      <th>Street</th>\n",
       "      <th>Alley</th>\n",
       "      <th>LotShape</th>\n",
       "      <th>LandContour</th>\n",
       "      <th>Utilities</th>\n",
       "      <th>LotConfig</th>\n",
       "      <th>...</th>\n",
       "      <th>ScreenPorch</th>\n",
       "      <th>PoolArea</th>\n",
       "      <th>PoolQC</th>\n",
       "      <th>Fence</th>\n",
       "      <th>MiscFeature</th>\n",
       "      <th>MiscVal</th>\n",
       "      <th>MoSold</th>\n",
       "      <th>YrSold</th>\n",
       "      <th>SaleType</th>\n",
       "      <th>SaleCondition</th>\n",
       "    </tr>\n",
       "    <tr>\n",
       "      <th>Id</th>\n",
       "      <th></th>\n",
       "      <th></th>\n",
       "      <th></th>\n",
       "      <th></th>\n",
       "      <th></th>\n",
       "      <th></th>\n",
       "      <th></th>\n",
       "      <th></th>\n",
       "      <th></th>\n",
       "      <th></th>\n",
       "      <th></th>\n",
       "      <th></th>\n",
       "      <th></th>\n",
       "      <th></th>\n",
       "      <th></th>\n",
       "      <th></th>\n",
       "      <th></th>\n",
       "      <th></th>\n",
       "      <th></th>\n",
       "      <th></th>\n",
       "      <th></th>\n",
       "    </tr>\n",
       "  </thead>\n",
       "  <tbody>\n",
       "  </tbody>\n",
       "</table>\n",
       "<p>0 rows × 79 columns</p>\n",
       "</div>"
      ],
      "text/plain": [
       "Empty DataFrame\n",
       "Columns: [MSSubClass, MSZoning, LotFrontage, LotArea, Street, Alley, LotShape, LandContour, Utilities, LotConfig, LandSlope, Neighborhood, Condition1, Condition2, BldgType, HouseStyle, OverallQual, OverallCond, YearBuilt, YearRemodAdd, RoofStyle, RoofMatl, Exterior1st, Exterior2nd, MasVnrType, MasVnrArea, ExterQual, ExterCond, Foundation, BsmtQual, BsmtCond, BsmtExposure, BsmtFinType1, BsmtFinSF1, BsmtFinType2, BsmtFinSF2, BsmtUnfSF, TotalBsmtSF, Heating, HeatingQC, CentralAir, Electrical, 1stFlrSF, 2ndFlrSF, LowQualFinSF, GrLivArea, BsmtFullBath, BsmtHalfBath, FullBath, HalfBath, BedroomAbvGr, KitchenAbvGr, KitchenQual, TotRmsAbvGrd, Functional, Fireplaces, FireplaceQu, GarageType, GarageYrBlt, GarageFinish, GarageCars, GarageArea, GarageQual, GarageCond, PavedDrive, WoodDeckSF, OpenPorchSF, EnclosedPorch, 3SsnPorch, ScreenPorch, PoolArea, PoolQC, Fence, MiscFeature, MiscVal, MoSold, YrSold, SaleType, SaleCondition]\n",
       "Index: []\n",
       "\n",
       "[0 rows x 79 columns]"
      ]
     },
     "execution_count": 7,
     "metadata": {},
     "output_type": "execute_result"
    }
   ],
   "source": [
    "#Additional Preprocessing/Cleansing for holdout dataset, luckily, only a tiny amount of records have nulls, as most of the\n",
    "#data was preprocessed well beforehand (about 1-2 records per attribute, and many are on the same record)\n",
    "\n",
    "#imputing mode values for categorical NA variables that cannot contain an NA value based on the neighborhood of the house\n",
    "data[\"MSZoning\"]= data.groupby('Neighborhood')['MSZoning'].transform(lambda x: x.mode()[0])\n",
    "data[data[\"MSZoning\"].isnull()]\n",
    "\n",
    "data[\"Utilities\"]= data.groupby('Neighborhood')['MSZoning'].transform(lambda x: x.mode()[0])\n",
    "data[data[\"Utilities\"].isnull()]\n",
    "\n",
    "data[\"Exterior1st\"]= data.groupby('Neighborhood')['Exterior1st'].transform(lambda x: x.mode()[0])\n",
    "data[data[\"Exterior1st\"].isnull()]\n",
    "\n",
    "data[\"Exterior2nd\"]= data.groupby('Neighborhood')['Exterior2nd'].transform(lambda x: x.mode()[0])\n",
    "data[data[\"Exterior2nd\"].isnull()]\n",
    "\n",
    "data[\"KitchenQual\"]= data.groupby('Neighborhood')['KitchenQual'].transform(lambda x: x.mode()[0])\n",
    "data[data[\"KitchenQual\"].isnull()]\n",
    "\n",
    "data[\"Functional\"]= data.groupby('Neighborhood')['Functional'].transform(lambda x: x.mode()[0])\n",
    "data[data[\"Functional\"].isnull()]\n",
    "\n",
    "data[\"SaleType\"]= data.groupby('Neighborhood')['SaleType'].transform(lambda x: x.mode()[0])\n",
    "data[data[\"SaleType\"].isnull()]\n"
   ]
  },
  {
   "cell_type": "code",
   "execution_count": 9,
   "metadata": {},
   "outputs": [
    {
     "data": {
      "text/plain": [
       "(1458, 1035)"
      ]
     },
     "execution_count": 9,
     "metadata": {},
     "output_type": "execute_result"
    }
   ],
   "source": [
    "#Now our base dataset has been pre-processed let's engineer features and encode dummy variables\n",
    "\n",
    "#One hot encoding for remaining categorical variables\n",
    "data = pd.get_dummies(data,drop_first = True)\n",
    "\n",
    "# interaction terms of all independent variables...remember to execute this step for the data_submission_test data as well!\n",
    "interaction_only = PolynomialFeatures(2, interaction_only=True) \n",
    "\n",
    "interaction_only.fit_transform(data)\n",
    "data.head()\n",
    "data.shape\n"
   ]
  },
  {
   "cell_type": "code",
   "execution_count": 39,
   "metadata": {},
   "outputs": [],
   "source": [
    "#Creating the scoring methods\n",
    "\n",
    "#Root mean squared error using cross validation\n",
    "scorer = make_scorer(mean_squared_error, greater_is_better = False)\n",
    "\n",
    "def compute_rmse_cv(model,X,y):\n",
    "    rmse= np.sqrt(-cross_val_score(model, X, y, scoring = scorer, cv = 10))\n",
    "    return(rmse.mean())\n",
    "\n",
    "\n",
    "#mean_squared_error(y_true,y_pred)\n",
    "\n",
    "#MAPE\n",
    "def compute_mape_score(y_test_input, y_pred_input):\n",
    "    y_test_input = np.array(y_test_input).reshape(-1,)\n",
    "    y_pred_input = np.array(y_pred_input).reshape(-1,)\n",
    "    percent_errors = np.abs((y_test_input - y_pred_input) / y_test_input) * 100\n",
    "    return np.mean(np.array(percent_errors))\n",
    "\n",
    "SCORING_CONFIG = {'mape' : compute_mape_score}\n"
   ]
  },
  {
   "cell_type": "code",
   "execution_count": 50,
   "metadata": {},
   "outputs": [],
   "source": [
    "#Let's begin modelling\n",
    "\n",
    "#Test train split\n",
    "X = data.loc[:, data.columns != 'SalePrice']\n",
    "y = data.SalePrice\n",
    "\n",
    "X_train, X_test, y_train, y_test = train_test_split(X, y, test_size=0.33)\n",
    "\n",
    "#Simple OLS\n",
    "OLS = LinearRegression().fit(X_train, y_train)\n",
    "\n",
    "y_pred = OLS.predict(X_test)\n",
    "pred_prices = np.exp(y_pred)\n",
    "test_prices = np.exp(y_test)\n",
    "\n",
    "#compute_mape_score(test_prices,pred_prices)\n",
    "\n",
    "compute_rmse_cv(OLS,X_test,y_test)\n",
    "\n",
    "#Around 14-19% error "
   ]
  },
  {
   "cell_type": "code",
   "execution_count": 51,
   "metadata": {},
   "outputs": [
    {
     "data": {
      "text/plain": [
       "0.11514008122380084"
      ]
     },
     "execution_count": 51,
     "metadata": {},
     "output_type": "execute_result"
    }
   ],
   "source": [
    "#Lasso L1 Regularization, with 10-fold cross validation\n",
    "# Set of values to check from:\n",
    "ALPHAS = [0.0001, 0.001, 0.01, 0.05, 0.1, 0.5, 1.0, 5.0, 10.0, 50.0, 100.0, 150.0, 200.0, 250.0, 500.0]\n",
    "\n",
    "#Build the Lasso CV model\n",
    "lasso_cv = LassoCV(alphas=ALPHAS, max_iter=1e7, tol=1e-2, cv=10)\n",
    "lasso_cv.fit(np.array(X_train), np.array(y_train).reshape(-1,))\n",
    "\n",
    "compute_rmse_cv(lasso_cv,X_test,y_test)\n",
    "\n",
    "#Much better! Around 12% on test data"
   ]
  },
  {
   "cell_type": "code",
   "execution_count": 9,
   "metadata": {},
   "outputs": [
    {
     "data": {
      "text/plain": [
       "0.12661680850675291"
      ]
     },
     "execution_count": 9,
     "metadata": {},
     "output_type": "execute_result"
    }
   ],
   "source": [
    "#Ridge L2 Regularization, with 10-fold cross validation\n",
    "ALPHAS = [0.0001, 0.001, 0.01, 0.05, 0.1, 0.5, 1.0, 5.0, 10.0, 50.0, 100.0, 150.0, 200.0, 250.0, 500.0]\n",
    "\n",
    "ridge_cv = RidgeCV(alphas=ALPHAS, cv=10)\n",
    "ridge_cv.fit(X_train, y_train)\n",
    "\n",
    "#check the error\n",
    "compute_rmse_cv(ridge_cv,X_test,y_test)\n",
    "\n",
    "#Slightly better performance it seems (although it may be based on the number of cross validations)"
   ]
  },
  {
   "cell_type": "code",
   "execution_count": 56,
   "metadata": {},
   "outputs": [
    {
     "data": {
      "text/plain": [
       "0.12522144899290066"
      ]
     },
     "execution_count": 56,
     "metadata": {},
     "output_type": "execute_result"
    }
   ],
   "source": [
    "#ElasticNet mixed L1 and L2 Regularization, with 10-fold cross validation\n",
    "elasticNet = ElasticNetCV(l1_ratio = [0.1, 0.3, 0.5, 0.6, 0.7, 0.8, 0.85, 0.9, 0.95, 1],\n",
    "                          alphas=ALPHAS, \n",
    "                          max_iter = 1e7, cv = 10)\n",
    "\n",
    "elasticNet.fit(X_train, y_train)\n",
    "\n",
    "#check error\n",
    "compute_rmse_cv(elasticNet,X_test,y_test)\n",
    "\n",
    "#ElasticNet actually seems to perform worse than Ridge, I'm guessing this is because"
   ]
  },
  {
   "cell_type": "code",
   "execution_count": 72,
   "metadata": {},
   "outputs": [
    {
     "data": {
      "text/plain": [
       "20164.2422623756"
      ]
     },
     "execution_count": 72,
     "metadata": {},
     "output_type": "execute_result"
    }
   ],
   "source": [
    "#Checking error after inverse log our transformed variable\n",
    "y_pred = lasso_cv.predict(X_test)\n",
    "pred_prices = np.exp(y_pred)\n",
    "test_prices = np.exp(y_test)\n",
    "\n",
    "rmse = np.sqrt(mean_squared_error(test_prices,pred_prices))\n",
    "print(rmse_1)"
   ]
  },
  {
   "cell_type": "code",
   "execution_count": 60,
   "metadata": {},
   "outputs": [],
   "source": [
    "#here we go back and execute all of the preprocessing code for the training dataset (to leverage the same code, the \n",
    "#holdout dataset will also enter a dataframe called \"data\")\n",
    "\n",
    "holdout_X = data_submission_test.loc[:, data.columns != 'SalePrice']\n",
    "\n",
    "y_pred_holdout = lasso_cv.predict(holdout_X)\n",
    "y_pred_SalePrice = np.exp(y_pred_holdout)\n",
    "\n",
    "y_pred_SalePrice[:1000]\n",
    "\n",
    "Submission = pd.DataFrame(y_pred_SalePrice)\n",
    "Submission.to_csv(r\"C:\\Users\\Tom-T\\Google Drive\\Queen's MMA\\Predictive Modelling - MMA 867\\Assignment 1\\House Prices Kaggle\\Tom_Submission.csv\")\n"
   ]
  }
 ],
 "metadata": {
  "kernelspec": {
   "display_name": "Python 3",
   "language": "python",
   "name": "python3"
  },
  "language_info": {
   "codemirror_mode": {
    "name": "ipython",
    "version": 3
   },
   "file_extension": ".py",
   "mimetype": "text/x-python",
   "name": "python",
   "nbconvert_exporter": "python",
   "pygments_lexer": "ipython3",
   "version": "3.6.10"
  }
 },
 "nbformat": 4,
 "nbformat_minor": 2
}
